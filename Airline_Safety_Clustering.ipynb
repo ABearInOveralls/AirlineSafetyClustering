{
 "cells": [
  {
   "cell_type": "markdown",
   "id": "4a645da8-1fa8-47e7-8045-46c659aa8d4d",
   "metadata": {},
   "source": [
    "## Airline Safety Clustering"
   ]
  },
  {
   "cell_type": "markdown",
   "id": "7fd64af3-8205-4a43-8eda-6452f8c65122",
   "metadata": {},
   "source": [
    "With the accidents involving Boeing's 737 Max, there have been speculations and concerns about airline safety. Then, there was a helicopter crash involving Kobe Bryant. Academic studies have found that high-profile crashes can shift passenger demand away from the airlines involved in the disasters.\r\n",
    "\r\n",
    "Should travelers avoid airlines that have had crashes in the past? The dataset for this has been sourced from Aviation Safety Network and available at this link: https://www.kaggle.com/fivethirtyeight/fivethirtyeight-airline-safety-dataset"
   ]
  },
  {
   "cell_type": "markdown",
   "id": "2944bf27-2874-4453-8e58-0125410687b5",
   "metadata": {},
   "source": [
    "#### Dataset Attributes\n",
    "\n",
    "airline: Airline (asterisk indicates that regional subsidiaries are included)\n",
    "\n",
    "avail_seat_km_per_week: Available seat kilometers flew every week\n",
    "\n",
    "incidents_85_99: Total number of incidents, 1985–1999\n",
    "\n",
    "fatal_accidents_85_99: Total number of fatal accidents, 1985–1999\n",
    "\n",
    "fatalities_85_99: Total number of fatalities, 1985–1999\n",
    "\n",
    "incidents_00_14: Total number of incidents, 2000–2014\n",
    "\n",
    "fatal_accidents_00_14: Total number of fatal accidents, 2000–2014\n",
    "\n",
    "fatalities_00_14: Total number of fatalities, 2000–2014"
   ]
  },
  {
   "cell_type": "markdown",
   "id": "198b3865-ff66-40bf-946d-28bf9bf82d2d",
   "metadata": {},
   "source": [
    "### KMeans and Agglomerative Clustering"
   ]
  },
  {
   "cell_type": "code",
   "execution_count": 5,
   "id": "e2c51479-9ddb-4c0f-9af9-82dc2703a39d",
   "metadata": {},
   "outputs": [],
   "source": [
    "import pandas as pd\n",
    "import numpy as np\n",
    "import matplotlib.pyplot as plt\n",
    "import matplotlib.patches as patches\n",
    "import seaborn as sns\n",
    "import statsmodels.api as sm\n",
    "\n",
    "from sklearn.decomposition import PCA\n",
    "from sklearn.preprocessing import StandardScaler\n",
    "from sklearn.cluster import AgglomerativeClustering, KMeans\n",
    "from sklearn.metrics import silhouette_score"
   ]
  },
  {
   "cell_type": "code",
   "execution_count": 7,
   "id": "8624fb2b-fec6-4eca-b4fa-feaf0be07956",
   "metadata": {},
   "outputs": [],
   "source": [
    "df = pd.read_csv(r\"C:\\Users\\stlp\\Downloads\\airline-safety.csv\")"
   ]
  },
  {
   "cell_type": "code",
   "execution_count": 9,
   "id": "1e48bf8e-0048-45d1-a3c0-05f351a7c16c",
   "metadata": {},
   "outputs": [
    {
     "name": "stdout",
     "output_type": "stream",
     "text": [
      "(56, 8)\n"
     ]
    },
    {
     "data": {
      "text/html": [
       "<div>\n",
       "<style scoped>\n",
       "    .dataframe tbody tr th:only-of-type {\n",
       "        vertical-align: middle;\n",
       "    }\n",
       "\n",
       "    .dataframe tbody tr th {\n",
       "        vertical-align: top;\n",
       "    }\n",
       "\n",
       "    .dataframe thead th {\n",
       "        text-align: right;\n",
       "    }\n",
       "</style>\n",
       "<table border=\"1\" class=\"dataframe\">\n",
       "  <thead>\n",
       "    <tr style=\"text-align: right;\">\n",
       "      <th></th>\n",
       "      <th>airline</th>\n",
       "      <th>avail_seat_km_per_week</th>\n",
       "      <th>incidents_85_99</th>\n",
       "      <th>fatal_accidents_85_99</th>\n",
       "      <th>fatalities_85_99</th>\n",
       "      <th>incidents_00_14</th>\n",
       "      <th>fatal_accidents_00_14</th>\n",
       "      <th>fatalities_00_14</th>\n",
       "    </tr>\n",
       "  </thead>\n",
       "  <tbody>\n",
       "    <tr>\n",
       "      <th>0</th>\n",
       "      <td>Aer Lingus</td>\n",
       "      <td>320906734</td>\n",
       "      <td>2</td>\n",
       "      <td>0</td>\n",
       "      <td>0</td>\n",
       "      <td>0</td>\n",
       "      <td>0</td>\n",
       "      <td>0</td>\n",
       "    </tr>\n",
       "    <tr>\n",
       "      <th>1</th>\n",
       "      <td>Aeroflot*</td>\n",
       "      <td>1197672318</td>\n",
       "      <td>76</td>\n",
       "      <td>14</td>\n",
       "      <td>128</td>\n",
       "      <td>6</td>\n",
       "      <td>1</td>\n",
       "      <td>88</td>\n",
       "    </tr>\n",
       "    <tr>\n",
       "      <th>2</th>\n",
       "      <td>Aerolineas Argentinas</td>\n",
       "      <td>385803648</td>\n",
       "      <td>6</td>\n",
       "      <td>0</td>\n",
       "      <td>0</td>\n",
       "      <td>1</td>\n",
       "      <td>0</td>\n",
       "      <td>0</td>\n",
       "    </tr>\n",
       "    <tr>\n",
       "      <th>3</th>\n",
       "      <td>Aeromexico*</td>\n",
       "      <td>596871813</td>\n",
       "      <td>3</td>\n",
       "      <td>1</td>\n",
       "      <td>64</td>\n",
       "      <td>5</td>\n",
       "      <td>0</td>\n",
       "      <td>0</td>\n",
       "    </tr>\n",
       "    <tr>\n",
       "      <th>4</th>\n",
       "      <td>Air Canada</td>\n",
       "      <td>1865253802</td>\n",
       "      <td>2</td>\n",
       "      <td>0</td>\n",
       "      <td>0</td>\n",
       "      <td>2</td>\n",
       "      <td>0</td>\n",
       "      <td>0</td>\n",
       "    </tr>\n",
       "  </tbody>\n",
       "</table>\n",
       "</div>"
      ],
      "text/plain": [
       "                 airline  avail_seat_km_per_week  incidents_85_99  \\\n",
       "0             Aer Lingus               320906734                2   \n",
       "1              Aeroflot*              1197672318               76   \n",
       "2  Aerolineas Argentinas               385803648                6   \n",
       "3            Aeromexico*               596871813                3   \n",
       "4             Air Canada              1865253802                2   \n",
       "\n",
       "   fatal_accidents_85_99  fatalities_85_99  incidents_00_14  \\\n",
       "0                      0                 0                0   \n",
       "1                     14               128                6   \n",
       "2                      0                 0                1   \n",
       "3                      1                64                5   \n",
       "4                      0                 0                2   \n",
       "\n",
       "   fatal_accidents_00_14  fatalities_00_14  \n",
       "0                      0                 0  \n",
       "1                      1                88  \n",
       "2                      0                 0  \n",
       "3                      0                 0  \n",
       "4                      0                 0  "
      ]
     },
     "execution_count": 9,
     "metadata": {},
     "output_type": "execute_result"
    }
   ],
   "source": [
    "print(df.shape)\n",
    "df.head()"
   ]
  },
  {
   "cell_type": "code",
   "execution_count": 40,
   "id": "83a29add-61dd-4fa7-a7ec-689abbb379da",
   "metadata": {},
   "outputs": [],
   "source": [
    "# preprocessing\n",
    "data = df.drop('airline', axis = 1)\n",
    "\n",
    "scaler = StandardScaler()\n",
    "data_scaled = scaler.fit_transform(data)"
   ]
  },
  {
   "cell_type": "markdown",
   "id": "168b6e36-859d-42ed-a65f-623caf2e8239",
   "metadata": {},
   "source": [
    "#### KMeans"
   ]
  },
  {
   "cell_type": "code",
   "execution_count": 24,
   "id": "c89bb667-80ec-4fe4-9390-c0f23c4185cb",
   "metadata": {},
   "outputs": [],
   "source": [
    "# k means clustering and scoring fucntion\n",
    "# evaluates model performance based on euclidean distance for each k\n",
    "# returns list of models and model scores\n",
    "def kmeans_model_eval(data, k_range):\n",
    "    # models & scoring \n",
    "    fits = []\n",
    "    scores = []\n",
    "    \n",
    "    for k in k_range:\n",
    "        model = KMeans(n_clusters = k, random_state = 16, n_init = 'auto').fit(data)\n",
    "        fits.append(model)\n",
    "    \n",
    "        model_score = silhouette_score(data, model.labels_, metric = 'euclidean')\n",
    "        scores.append(model_score)\n",
    "\n",
    "    return fits, scores"
   ]
  },
  {
   "cell_type": "code",
   "execution_count": 20,
   "id": "b83afe19-faf2-4c76-b2ea-5a32813185d2",
   "metadata": {},
   "outputs": [
    {
     "name": "stderr",
     "output_type": "stream",
     "text": [
      "C:\\Users\\stlp\\anaconda3\\Lib\\site-packages\\sklearn\\cluster\\_kmeans.py:1382: UserWarning: KMeans is known to have a memory leak on Windows with MKL, when there are less chunks than available threads. You can avoid it by setting the environment variable OMP_NUM_THREADS=1.\n",
      "  warnings.warn(\n",
      "C:\\Users\\stlp\\anaconda3\\Lib\\site-packages\\sklearn\\cluster\\_kmeans.py:1382: UserWarning: KMeans is known to have a memory leak on Windows with MKL, when there are less chunks than available threads. You can avoid it by setting the environment variable OMP_NUM_THREADS=1.\n",
      "  warnings.warn(\n",
      "C:\\Users\\stlp\\anaconda3\\Lib\\site-packages\\sklearn\\cluster\\_kmeans.py:1382: UserWarning: KMeans is known to have a memory leak on Windows with MKL, when there are less chunks than available threads. You can avoid it by setting the environment variable OMP_NUM_THREADS=1.\n",
      "  warnings.warn(\n",
      "C:\\Users\\stlp\\anaconda3\\Lib\\site-packages\\sklearn\\cluster\\_kmeans.py:1382: UserWarning: KMeans is known to have a memory leak on Windows with MKL, when there are less chunks than available threads. You can avoid it by setting the environment variable OMP_NUM_THREADS=1.\n",
      "  warnings.warn(\n",
      "C:\\Users\\stlp\\anaconda3\\Lib\\site-packages\\sklearn\\cluster\\_kmeans.py:1382: UserWarning: KMeans is known to have a memory leak on Windows with MKL, when there are less chunks than available threads. You can avoid it by setting the environment variable OMP_NUM_THREADS=1.\n",
      "  warnings.warn(\n",
      "C:\\Users\\stlp\\anaconda3\\Lib\\site-packages\\sklearn\\cluster\\_kmeans.py:1382: UserWarning: KMeans is known to have a memory leak on Windows with MKL, when there are less chunks than available threads. You can avoid it by setting the environment variable OMP_NUM_THREADS=1.\n",
      "  warnings.warn(\n",
      "C:\\Users\\stlp\\anaconda3\\Lib\\site-packages\\sklearn\\cluster\\_kmeans.py:1382: UserWarning: KMeans is known to have a memory leak on Windows with MKL, when there are less chunks than available threads. You can avoid it by setting the environment variable OMP_NUM_THREADS=1.\n",
      "  warnings.warn(\n"
     ]
    }
   ],
   "source": [
    "# range 2 - 9\n",
    "# 2: safe vs unsafe\n",
    "# 8: default k for sklearn\n",
    "k_range = list(range(2,9))\n",
    "kmeans_fits, kmeans_scores = kmeans_model_eval(data_scaled, k_range)"
   ]
  },
  {
   "cell_type": "markdown",
   "id": "a07021fd-de4b-4f8b-a893-5178a701bfd7",
   "metadata": {},
   "source": [
    "#### Agglomerative"
   ]
  },
  {
   "cell_type": "code",
   "execution_count": 30,
   "id": "cbbd928d-982d-4e9f-a36d-a6fa431a2a87",
   "metadata": {},
   "outputs": [],
   "source": [
    "# agglomerative clustering and scoring fucntion\n",
    "# evaluates model performance based on euclidean distance for each k\n",
    "# returns list of models and model scores\n",
    "def agglo_model_eval(data, k_range):\n",
    "    # models & scoring \n",
    "    fits = []\n",
    "    scores = []\n",
    "    \n",
    "    for k in k_range:\n",
    "        model = AgglomerativeClustering(n_clusters = k).fit(data)\n",
    "        fits.append(model)\n",
    "    \n",
    "        model_score = silhouette_score(data, model.labels_, metric = 'euclidean')\n",
    "        scores.append(model_score)\n",
    "\n",
    "    return fits, scores"
   ]
  },
  {
   "cell_type": "code",
   "execution_count": 32,
   "id": "3346f2a4-b2e1-4160-a757-327a5ea4cc78",
   "metadata": {},
   "outputs": [],
   "source": [
    "agglo_fits, agglo_scores = agglo_model_eval(data_scaled, k_range)"
   ]
  },
  {
   "cell_type": "markdown",
   "id": "8cbf5f76-131d-4e17-861c-87dab0cbe299",
   "metadata": {},
   "source": [
    "#### Model Performance Comparison For Each K"
   ]
  },
  {
   "cell_type": "code",
   "execution_count": 35,
   "id": "f3fe005e-9702-4eb6-ac22-45d8f3086e40",
   "metadata": {},
   "outputs": [
    {
     "name": "stderr",
     "output_type": "stream",
     "text": [
      "C:\\Users\\stlp\\anaconda3\\Lib\\site-packages\\seaborn\\_oldcore.py:1119: FutureWarning: use_inf_as_na option is deprecated and will be removed in a future version. Convert inf values to NaN before operating instead.\n",
      "  with pd.option_context('mode.use_inf_as_na', True):\n",
      "C:\\Users\\stlp\\anaconda3\\Lib\\site-packages\\seaborn\\_oldcore.py:1119: FutureWarning: use_inf_as_na option is deprecated and will be removed in a future version. Convert inf values to NaN before operating instead.\n",
      "  with pd.option_context('mode.use_inf_as_na', True):\n",
      "C:\\Users\\stlp\\anaconda3\\Lib\\site-packages\\seaborn\\_oldcore.py:1119: FutureWarning: use_inf_as_na option is deprecated and will be removed in a future version. Convert inf values to NaN before operating instead.\n",
      "  with pd.option_context('mode.use_inf_as_na', True):\n",
      "C:\\Users\\stlp\\anaconda3\\Lib\\site-packages\\seaborn\\_oldcore.py:1119: FutureWarning: use_inf_as_na option is deprecated and will be removed in a future version. Convert inf values to NaN before operating instead.\n",
      "  with pd.option_context('mode.use_inf_as_na', True):\n"
     ]
    },
    {
     "data": {
      "image/png": "[encoded data removed]",
      "text/plain": [
       "<Figure size 640x480 with 1 Axes>"
      ]
     },
     "metadata": {},
     "output_type": "display_data"
    }
   ],
   "source": [
    "# score comparison graph\n",
    "sns.lineplot(x = range(2,9), y = kmeans_scores, color = 'r')\n",
    "sns.lineplot(x = range(2, 9), y = agglo_scores, color = 'b')\n",
    "plt.title('Agglomerative(blue) and KMeans(red) Scoring')\n",
    "plt.xlabel('K')\n",
    "plt.ylabel('Score')\n",
    "\n",
    "plt.show()"
   ]
  },
  {
   "cell_type": "code",
   "execution_count": 37,
   "id": "cfda4d9e-64d4-4235-bfe6-7cd59fd39699",
   "metadata": {},
   "outputs": [
    {
     "name": "stdout",
     "output_type": "stream",
     "text": [
      "Max KMeans Score: 0.6093532583644075\n",
      "Max Agglomerative Score: 0.6016526265738218\n"
     ]
    }
   ],
   "source": [
    "print('Max KMeans Score:', kmeans_scores[0])\n",
    "print('Max Agglomerative Score:', agglo_scores[0])"
   ]
  },
  {
   "cell_type": "markdown",
   "id": "85f1b95b-a259-4f87-a8a4-b62b5bc8670b",
   "metadata": {},
   "source": [
    "Both models have a silhouette score above 0.5, meaning that they perform relatively well. Both models have similar cluster scoring, with the best performing model having k = 2. This seems rather intuitive, though as the clusters are likely grouped by safe and not safe. \n",
    "\n",
    "Max KMeans Score: 0.6093532583644075\n",
    "\r\n",
    "Max Agglomerative Score: 0.6016526265738218"
   ]
  },
  {
   "cell_type": "code",
   "execution_count": null,
   "id": "e780b3df-2d2b-4dd7-87d2-873647ae1a8d",
   "metadata": {},
   "outputs": [],
   "source": [
    "# visualization of clusters function\n",
    "def plot_clusters(cluster_frame, X, model_type_name):\n",
    "    # decomposition for clustering 2D visualization\n",
    "    # chooses to most important variables\n",
    "    principle = PCA(n_components = 2)\n",
    "    data_principle = principle.fit_transform(X)\n",
    "\n",
    "    # frame of principle variables and mapped clusters to target variables \n",
    "    df_principle = pd.DataFrame(data_principle, columns = ['PC1', 'PC2'])\n",
    "    df_principle['Disease'] = cluster_frame['Cluster To Disease']\n",
    "\n",
    "    # plot clusters\n",
    "    sns.scatterplot(data = df_principle, x = 'PC1', y = 'PC2', hue = 'Disease', palette = 'cool')\n",
    "    plt.title(f'{model_type_name} Clustering of Dermatology Data')\n",
    "\n",
    "    # general cluster areas\n",
    "    for cluster in np.unique(df_principle['Disease']):\n",
    "        cluster_data = df_principle[df_principle['Disease'] == cluster]\n",
    "        ellipse = patches.Ellipse(cluster_data[['PC1', 'PC2']].mean().values,\n",
    "                                  width = cluster_data['PC1'].std() * 4,\n",
    "                                  height = cluster_data['PC2'].std() * 4,\n",
    "                                  edgecolor = 'black', \n",
    "                                  facecolor = 'none', \n",
    "                                  linestyle = '--', \n",
    "                                  linewidth = 1)\n",
    "        plt.gca().add_patch(ellipse)\n",
    "    \n",
    "    plt.show()"
   ]
  },
  {
   "cell_type": "code",
   "execution_count": 42,
   "id": "a97fc638-2730-4c3d-a7cd-2f89482124eb",
   "metadata": {},
   "outputs": [],
   "source": [
    "# visualization of clusters function\n",
    "# takes cluster labels, data, and name of clustering fuction to plot resulting clusters \n",
    "def plot_clusters(labels, data, model_type_name):\n",
    "    # decomposition for clustering 2D visualization\n",
    "    # chooses to most important variables\n",
    "    principle = PCA(n_components = 2)\n",
    "    data_principle = principle.fit_transform(data)\n",
    "\n",
    "    # frame of principle variables and mapped clusters to target variables \n",
    "    df_principle = pd.DataFrame(data_principle, columns = ['PC1', 'PC2'])\n",
    "    df_principle['Label'] = labels\n",
    "\n",
    "    # plot clusters\n",
    "    sns.scatterplot(data = df_principle, x = 'PC1', y = 'PC2', hue = 'Label', palette = 'cool')\n",
    "    plt.title(f'{model_type_name} Clustering of Airline Safety Data')\n",
    "\n",
    "    # general cluster areas\n",
    "    for cluster in np.unique(df_principle['Label']):\n",
    "        cluster_data = df_principle[df_principle['Label'] == cluster]\n",
    "        ellipse = patches.Ellipse(cluster_data[['PC1', 'PC2']].mean().values,\n",
    "                                  width = cluster_data['PC1'].std() * 4,\n",
    "                                  height = cluster_data['PC2'].std() * 4,\n",
    "                                  edgecolor = 'black', \n",
    "                                  facecolor = 'none', \n",
    "                                  linestyle = '--', \n",
    "                                  linewidth = 1)\n",
    "        plt.gca().add_patch(ellipse)\n",
    "    \n",
    "    plt.show()"
   ]
  },
  {
   "cell_type": "code",
   "execution_count": 44,
   "id": "2103e923-b453-41a8-9148-8ba912632959",
   "metadata": {},
   "outputs": [
    {
     "data": {
      "image/png": "[encoded data removed]",
      "text/plain": [
       "<Figure size 640x480 with 1 Axes>"
      ]
     },
     "metadata": {},
     "output_type": "display_data"
    },
    {
     "data": {
      "image/png": "[encoded data removed]",
      "text/plain": [
       "<Figure size 640x480 with 1 Axes>"
      ]
     },
     "metadata": {},
     "output_type": "display_data"
    }
   ],
   "source": [
    "kmeans_best = kmeans_fits[0]\n",
    "agglo_best = agglo_fits[0]\n",
    "\n",
    "plot_clusters(kmeans_best.labels_, data_scaled, 'KMeans')\n",
    "plot_clusters(agglo_best.labels_, data_scaled, 'Agglomerative')"
   ]
  },
  {
   "cell_type": "markdown",
   "id": "4feae9e6-be1c-42c3-90dc-472e94b26ea1",
   "metadata": {},
   "source": [
    "#### Clustering Results\n",
    "\n",
    "As show with with the scoring results, both models perform relatively simialar in terms of cluster quality. Because of model clustering methods and model scoring, the clusters are also slightly different. KMeans only labels 1 airline in the 'dangerous' category whereas Agglomerative labels 4. "
   ]
  },
  {
   "cell_type": "code",
   "execution_count": 48,
   "id": "58aa8a6a-5512-484f-88f0-f481bf4a6f55",
   "metadata": {},
   "outputs": [],
   "source": [
    "safety = df.copy()\n",
    "safety['Cluster K'] = kmeans_best.labels_\n",
    "safety['Cluster A'] = agglo_best.labels_"
   ]
  },
  {
   "cell_type": "code",
   "execution_count": 63,
   "id": "5fa87abb-7eba-4990-bde8-2428216e3ff4",
   "metadata": {},
   "outputs": [
    {
     "name": "stdout",
     "output_type": "stream",
     "text": [
      "Kmeans Cluster: 0\n",
      "{'Ethiopian Airlines', 'Aeromexico*', 'US Airways / America West*', 'Saudi Arabian', 'Lufthansa*', 'TAM', 'Xiamen Airlines', 'All Nippon Airways', 'Egyptair', 'Southwest Airlines', 'South African', 'Kenya Airways', 'Air India*', 'TACA', 'Pakistan International', 'Turkish Airlines', 'Alitalia', 'Air New Zealand*', 'LAN Airlines', 'SWISS*', 'Austrian Airlines', 'Air France', 'Finnair', 'Philippine Airlines', 'Garuda Indonesia', 'El Al', 'KLM*', 'Hawaiian Airlines', 'American*', 'Delta / Northwest*', 'Aerolineas Argentinas', 'SAS*', 'Cathay Pacific*', 'Japan Airlines', 'British Airways*', 'Condor', 'TAP - Air Portugal', 'Thai Airways', 'Alaska Airlines*', 'Singapore Airlines', 'Qantas*', 'Iberia', 'Royal Air Maroc', 'Virgin Atlantic', 'Gulf Air', 'China Airlines', 'United / Continental*', 'Air Canada', 'Korean Air', 'Sri Lankan / AirLanka', 'Aer Lingus', 'COPA', 'Malaysia Airlines', 'Vietnam Airlines', 'Avianca'}\n",
      "\n",
      "Agglomerative Cluster: 0\n",
      "{'Ethiopian Airlines', 'Aeromexico*', 'US Airways / America West*', 'Saudi Arabian', 'Lufthansa*', 'TAM', 'Xiamen Airlines', 'All Nippon Airways', 'Egyptair', 'Southwest Airlines', 'South African', 'Kenya Airways', 'Air India*', 'TACA', 'Pakistan International', 'Turkish Airlines', 'Alitalia', 'Air New Zealand*', 'LAN Airlines', 'SWISS*', 'Austrian Airlines', 'Air France', 'Finnair', 'Philippine Airlines', 'Garuda Indonesia', 'El Al', 'KLM*', 'Hawaiian Airlines', 'Aerolineas Argentinas', 'SAS*', 'Cathay Pacific*', 'Japan Airlines', 'British Airways*', 'Condor', 'TAP - Air Portugal', 'Thai Airways', 'Alaska Airlines*', 'Singapore Airlines', 'Qantas*', 'Iberia', 'Royal Air Maroc', 'Virgin Atlantic', 'Gulf Air', 'China Airlines', 'Air Canada', 'Korean Air', 'Sri Lankan / AirLanka', 'Aer Lingus', 'COPA', 'Malaysia Airlines', 'Vietnam Airlines', 'Avianca'}\n",
      "\n",
      "Intersection of Clusters:\n",
      "{'Ethiopian Airlines', 'Aeromexico*', 'US Airways / America West*', 'Saudi Arabian', 'Lufthansa*', 'TAM', 'Xiamen Airlines', 'All Nippon Airways', 'Egyptair', 'Southwest Airlines', 'South African', 'Kenya Airways', 'Air India*', 'TACA', 'Pakistan International', 'Turkish Airlines', 'Alitalia', 'Air New Zealand*', 'LAN Airlines', 'SWISS*', 'Austrian Airlines', 'Air France', 'Finnair', 'Philippine Airlines', 'Garuda Indonesia', 'El Al', 'KLM*', 'Hawaiian Airlines', 'Aerolineas Argentinas', 'SAS*', 'Cathay Pacific*', 'Japan Airlines', 'British Airways*', 'Condor', 'TAP - Air Portugal', 'Thai Airways', 'Alaska Airlines*', 'Singapore Airlines', 'Qantas*', 'Iberia', 'Royal Air Maroc', 'Virgin Atlantic', 'Gulf Air', 'China Airlines', 'Air Canada', 'Korean Air', 'Sri Lankan / AirLanka', 'Aer Lingus', 'COPA', 'Malaysia Airlines', 'Vietnam Airlines', 'Avianca'}\n",
      "Kmeans Cluster: 1\n",
      "{'Aeroflot*'}\n",
      "\n",
      "Agglomerative Cluster: 1\n",
      "{'Delta / Northwest*', 'United / Continental*', 'Aeroflot*', 'American*'}\n",
      "\n",
      "Intersection of Clusters:\n",
      "{'Aeroflot*'}\n"
     ]
    }
   ],
   "source": [
    "for cluster in safety['Cluster K'].unique():\n",
    "    k = set(safety[safety['Cluster K'] == cluster]['airline'])\n",
    "    a = set(safety[safety['Cluster A'] == cluster]['airline'])\n",
    "\n",
    "    inter = k.intersection(a)\n",
    "\n",
    "    print('Kmeans Cluster:', cluster)\n",
    "    print(k)\n",
    "    print()\n",
    "    print('Agglomerative Cluster:', cluster)\n",
    "    print(a)\n",
    "    print()\n",
    "    print('Intersection of Clusters:')\n",
    "    print(inter)"
   ]
  },
  {
   "cell_type": "markdown",
   "id": "6461fccd-b331-41d5-8b8b-f162634214d8",
   "metadata": {},
   "source": [
    "### Final Results:\n",
    "Both clustering methods agree that Aeroflot is the 'most dangerous' airline given the available data.\n"
   ]
  },
  {
   "cell_type": "code",
   "execution_count": 52,
   "id": "a4c25817-e6bd-44ed-9a1b-9140a36a969f",
   "metadata": {},
   "outputs": [
    {
     "data": {
      "text/html": [
       "<div>\n",
       "<style scoped>\n",
       "    .dataframe tbody tr th:only-of-type {\n",
       "        vertical-align: middle;\n",
       "    }\n",
       "\n",
       "    .dataframe tbody tr th {\n",
       "        vertical-align: top;\n",
       "    }\n",
       "\n",
       "    .dataframe thead th {\n",
       "        text-align: right;\n",
       "    }\n",
       "</style>\n",
       "<table border=\"1\" class=\"dataframe\">\n",
       "  <thead>\n",
       "    <tr style=\"text-align: right;\">\n",
       "      <th></th>\n",
       "      <th>Cluster K</th>\n",
       "      <th>incidents_85_99</th>\n",
       "      <th>fatal_accidents_85_99</th>\n",
       "      <th>fatalities_85_99</th>\n",
       "      <th>incidents_00_14</th>\n",
       "      <th>fatal_accidents_00_14</th>\n",
       "      <th>fatalities_00_14</th>\n",
       "      <th>incidents_mean</th>\n",
       "      <th>fatal_mean</th>\n",
       "      <th>fatalities_mean</th>\n",
       "    </tr>\n",
       "  </thead>\n",
       "  <tbody>\n",
       "    <tr>\n",
       "      <th>0</th>\n",
       "      <td>0</td>\n",
       "      <td>5.927273</td>\n",
       "      <td>1.963636</td>\n",
       "      <td>112.127273</td>\n",
       "      <td>4.090909</td>\n",
       "      <td>0.654545</td>\n",
       "      <td>54.927273</td>\n",
       "      <td>5.009091</td>\n",
       "      <td>1.309091</td>\n",
       "      <td>83.527273</td>\n",
       "    </tr>\n",
       "    <tr>\n",
       "      <th>1</th>\n",
       "      <td>1</td>\n",
       "      <td>76.000000</td>\n",
       "      <td>14.000000</td>\n",
       "      <td>128.000000</td>\n",
       "      <td>6.000000</td>\n",
       "      <td>1.000000</td>\n",
       "      <td>88.000000</td>\n",
       "      <td>41.000000</td>\n",
       "      <td>7.500000</td>\n",
       "      <td>108.000000</td>\n",
       "    </tr>\n",
       "  </tbody>\n",
       "</table>\n",
       "</div>"
      ],
      "text/plain": [
       "   Cluster K  incidents_85_99  fatal_accidents_85_99  fatalities_85_99  \\\n",
       "0          0         5.927273               1.963636        112.127273   \n",
       "1          1        76.000000              14.000000        128.000000   \n",
       "\n",
       "   incidents_00_14  fatal_accidents_00_14  fatalities_00_14  incidents_mean  \\\n",
       "0         4.090909               0.654545         54.927273        5.009091   \n",
       "1         6.000000               1.000000         88.000000       41.000000   \n",
       "\n",
       "   fatal_mean  fatalities_mean  \n",
       "0    1.309091        83.527273  \n",
       "1    7.500000       108.000000  "
      ]
     },
     "execution_count": 52,
     "metadata": {},
     "output_type": "execute_result"
    }
   ],
   "source": [
    "# average safety metrics by kmeans cluster\n",
    "safety_metrics1 = safety.groupby('Cluster K').agg({\n",
    "    'incidents_85_99': 'mean',\n",
    "    'fatal_accidents_85_99': 'mean',\n",
    "    'fatalities_85_99': 'mean',\n",
    "    'incidents_00_14': 'mean',\n",
    "    'fatal_accidents_00_14': 'mean',\n",
    "    'fatalities_00_14': 'mean'\n",
    "}).reset_index()\n",
    "\n",
    "safety_metrics1['incidents_mean'] = (safety_metrics1['incidents_85_99'] + safety_metrics1['incidents_00_14']) / 2\n",
    "safety_metrics1['fatal_mean'] = (safety_metrics1['fatal_accidents_85_99'] + safety_metrics1['fatal_accidents_00_14']) / 2\n",
    "safety_metrics1['fatalities_mean'] = (safety_metrics1['fatalities_85_99'] + safety_metrics1['fatalities_00_14']) / 2\n",
    "\n",
    "safety_metrics1"
   ]
  },
  {
   "cell_type": "code",
   "execution_count": 54,
   "id": "0e2e6741-b81b-4bc4-8b1f-5999246da5d4",
   "metadata": {},
   "outputs": [
    {
     "data": {
      "text/html": [
       "<div>\n",
       "<style scoped>\n",
       "    .dataframe tbody tr th:only-of-type {\n",
       "        vertical-align: middle;\n",
       "    }\n",
       "\n",
       "    .dataframe tbody tr th {\n",
       "        vertical-align: top;\n",
       "    }\n",
       "\n",
       "    .dataframe thead th {\n",
       "        text-align: right;\n",
       "    }\n",
       "</style>\n",
       "<table border=\"1\" class=\"dataframe\">\n",
       "  <thead>\n",
       "    <tr style=\"text-align: right;\">\n",
       "      <th></th>\n",
       "      <th>Cluster A</th>\n",
       "      <th>incidents_85_99</th>\n",
       "      <th>fatal_accidents_85_99</th>\n",
       "      <th>fatalities_85_99</th>\n",
       "      <th>incidents_00_14</th>\n",
       "      <th>fatal_accidents_00_14</th>\n",
       "      <th>fatalities_00_14</th>\n",
       "      <th>incidents_mean</th>\n",
       "      <th>fatal_mean</th>\n",
       "      <th>fatalities_mean</th>\n",
       "    </tr>\n",
       "  </thead>\n",
       "  <tbody>\n",
       "    <tr>\n",
       "      <th>0</th>\n",
       "      <td>0</td>\n",
       "      <td>5.038462</td>\n",
       "      <td>1.596154</td>\n",
       "      <td>102.692308</td>\n",
       "      <td>3.269231</td>\n",
       "      <td>0.557692</td>\n",
       "      <td>47.019231</td>\n",
       "      <td>4.153846</td>\n",
       "      <td>1.076923</td>\n",
       "      <td>74.855769</td>\n",
       "    </tr>\n",
       "    <tr>\n",
       "      <th>1</th>\n",
       "      <td>1</td>\n",
       "      <td>35.000000</td>\n",
       "      <td>9.750000</td>\n",
       "      <td>238.750000</td>\n",
       "      <td>15.250000</td>\n",
       "      <td>2.000000</td>\n",
       "      <td>166.000000</td>\n",
       "      <td>25.125000</td>\n",
       "      <td>5.875000</td>\n",
       "      <td>202.375000</td>\n",
       "    </tr>\n",
       "  </tbody>\n",
       "</table>\n",
       "</div>"
      ],
      "text/plain": [
       "   Cluster A  incidents_85_99  fatal_accidents_85_99  fatalities_85_99  \\\n",
       "0          0         5.038462               1.596154        102.692308   \n",
       "1          1        35.000000               9.750000        238.750000   \n",
       "\n",
       "   incidents_00_14  fatal_accidents_00_14  fatalities_00_14  incidents_mean  \\\n",
       "0         3.269231               0.557692         47.019231        4.153846   \n",
       "1        15.250000               2.000000        166.000000       25.125000   \n",
       "\n",
       "   fatal_mean  fatalities_mean  \n",
       "0    1.076923        74.855769  \n",
       "1    5.875000       202.375000  "
      ]
     },
     "execution_count": 54,
     "metadata": {},
     "output_type": "execute_result"
    }
   ],
   "source": [
    "# average safety metrics by kmeans cluster\n",
    "safety_metrics2 = safety.groupby('Cluster A').agg({\n",
    "    'incidents_85_99': 'mean',\n",
    "    'fatal_accidents_85_99': 'mean',\n",
    "    'fatalities_85_99': 'mean',\n",
    "    'incidents_00_14': 'mean',\n",
    "    'fatal_accidents_00_14': 'mean',\n",
    "    'fatalities_00_14': 'mean'\n",
    "}).reset_index()\n",
    "\n",
    "safety_metrics2['incidents_mean'] = (safety_metrics2['incidents_85_99'] + safety_metrics2['incidents_00_14']) / 2\n",
    "safety_metrics2['fatal_mean'] = (safety_metrics2['fatal_accidents_85_99'] + safety_metrics2['fatal_accidents_00_14']) / 2\n",
    "safety_metrics2['fatalities_mean'] = (safety_metrics2['fatalities_85_99'] + safety_metrics2['fatalities_00_14']) / 2\n",
    "\n",
    "safety_metrics2"
   ]
  }
 ],
 "metadata": {
  "kernelspec": {
   "display_name": "Python 3 (ipykernel)",
   "language": "python",
   "name": "python3"
  },
  "language_info": {
   "codemirror_mode": {
    "name": "ipython",
    "version": 3
   },
   "file_extension": ".py",
   "mimetype": "text/x-python",
   "name": "python",
   "nbconvert_exporter": "python",
   "pygments_lexer": "ipython3",
   "version": "3.11.7"
  }
 },
 "nbformat": 4,
 "nbformat_minor": 5
}
